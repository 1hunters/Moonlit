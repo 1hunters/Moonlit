{
 "cells": [
  {
   "cell_type": "code",
   "execution_count": 1,
   "metadata": {},
   "outputs": [],
   "source": [
    "from utils import *\n",
    "features = ['HW', 'CIN', 'COUT', 'KERNEL_SIZE', 'STRIDES']\n",
    "lut_configs = pd.read_csv('./configs/vae_inputs_patch_lut.csv')\n",
    "lut_configs_train = lut_configs[lut_configs['CAT'] == 'train'][features + ['SCALED_FREQ']]\n",
    "lut_configs_test = lut_configs[lut_configs['CAT'] == 'test'][features + ['SCALED_FREQ']]\n",
    "df = lut_configs[features].copy()\n",
    "df['HW'] = np.log2(df['HW'])\n",
    "df['CIN'] = np.log2(df['CIN'])\n",
    "df['COUT'] = np.log2(df['COUT'])\n",
    "data = df.to_numpy().astype(np.float32)\n",
    "min_val = data.min(axis=0)\n",
    "max_val = data.max(axis=0)\n",
    "data = (data - min_val) / (max_val - min_val)\n",
    "scale = max_val - min_val"
   ]
  },
  {
   "cell_type": "code",
   "execution_count": 2,
   "metadata": {},
   "outputs": [],
   "source": [
    "data = np.hstack((data, lut_configs[['SCALED_FREQ']].astype(np.float32)))\n",
    "data_train = data[lut_configs['CAT'] == 'train']\n",
    "data_val = data[lut_configs['CAT'] == 'test']"
   ]
  },
  {
   "cell_type": "code",
   "execution_count": 10,
   "metadata": {},
   "outputs": [],
   "source": [
    "\n",
    "vae_path = './checkpoint/vae_ep20.model'\n",
    "model = load_vae_model(vae_path)\n"
   ]
  },
  {
   "cell_type": "code",
   "execution_count": 4,
   "metadata": {},
   "outputs": [],
   "source": [
    "x_hat_vae = generate_data(model,scale,min_val,features,3000)\n",
    "x_hat_vae = reconstraint_data(x_hat_vae)"
   ]
  },
  {
   "cell_type": "code",
   "execution_count": 12,
   "metadata": {},
   "outputs": [],
   "source": [
    "with open('./result/generate_config.csv', 'w') as f:\n",
    "    f.write(x_hat_vae.to_csv(line_terminator='\\n', index=None))"
   ]
  },
  {
   "cell_type": "code",
   "execution_count": 6,
   "metadata": {},
   "outputs": [
    {
     "data": {
      "image/png": "[encoded data removed]",
      "text/plain": [
       "<Figure size 1080x720 with 5 Axes>"
      ]
     },
     "metadata": {
      "needs_background": "light"
     },
     "output_type": "display_data"
    }
   ],
   "source": [
    "lut_configs_train = lut_configs_train.reset_index(drop=True)\n",
    "lut_configs_train_shuffled = lut_configs_train.iloc[np.random.permutation(len(lut_configs_train))]\n",
    "lut_configs_test = lut_configs_test.reset_index(drop=True)\n",
    "lut_configs_test_shuffled = lut_configs_test.iloc[np.random.permutation(len(lut_configs_test))]\n",
    "\n",
    "configs = [lut_configs_test_shuffled, x_hat_vae]\n",
    "weights = [x['SCALED_FREQ'] for x in configs]\n",
    "labels = ['$x$', '$\\hat{x}_{VAE}$']\n",
    "\n",
    "import matplotlib.pyplot as plt\n",
    "fig = plt.figure(figsize=(15, 10))\n",
    "\n",
    "for i, feature in enumerate(features):\n",
    "    ax = plt.subplot(231 + i)\n",
    "    ax.hist([x[feature] for x in configs], weights=weights, label=labels)\n",
    "    ax.set_xlabel(feature)\n",
    "    ax.legend()"
   ]
  },
  {
   "cell_type": "code",
   "execution_count": 7,
   "metadata": {},
   "outputs": [
    {
     "name": "stdout",
     "output_type": "stream",
     "text": [
      "KL(x_train, x_train) = 0.02330054130813768\n",
      "KL(x_test, x_test) = 0.030824848282530872\n",
      "KL(x_train, x_test) = 0.03725512646231534\n",
      "KL(x_test, x_train) = 0.02498368169076574\n"
     ]
    }
   ],
   "source": [
    "kl_labels = [\n",
    "    calc_self_divergence(lut_configs_train_shuffled),\n",
    "    calc_self_divergence(lut_configs_test_shuffled),\n",
    "    calc_divergence(lut_configs_train_shuffled, lut_configs_test_shuffled),\n",
    "    calc_divergence(lut_configs_test_shuffled, lut_configs_train_shuffled),\n",
    "]\n",
    "print(f'KL(x_train, x_train) = {kl_labels[0]}')\n",
    "print(f'KL(x_test, x_test) = {kl_labels[1]}')\n",
    "print(f'KL(x_train, x_test) = {kl_labels[2]}')\n",
    "print(f'KL(x_test, x_train) = {kl_labels[3]}')"
   ]
  },
  {
   "cell_type": "code",
   "execution_count": 8,
   "metadata": {},
   "outputs": [
    {
     "data": {
      "text/plain": [
       "0.01245545875678614"
      ]
     },
     "execution_count": 8,
     "metadata": {},
     "output_type": "execute_result"
    }
   ],
   "source": [
    "calc_divergence(lut_configs_test_shuffled, x_hat_vae)"
   ]
  },
  {
   "cell_type": "code",
   "execution_count": 9,
   "metadata": {},
   "outputs": [
    {
     "data": {
      "text/plain": [
       "0.03671349079881694"
      ]
     },
     "execution_count": 9,
     "metadata": {},
     "output_type": "execute_result"
    }
   ],
   "source": [
    "calc_divergence(x_hat_vae, lut_configs_test_shuffled)"
   ]
  }
 ],
 "metadata": {
  "kernelspec": {
   "display_name": "nnmeter1",
   "language": "python",
   "name": "python3"
  },
  "language_info": {
   "codemirror_mode": {
    "name": "ipython",
    "version": 3
   },
   "file_extension": ".py",
   "mimetype": "text/x-python",
   "name": "python",
   "nbconvert_exporter": "python",
   "pygments_lexer": "ipython3",
   "version": "3.7.12"
  },
  "orig_nbformat": 4
 },
 "nbformat": 4,
 "nbformat_minor": 2
}
