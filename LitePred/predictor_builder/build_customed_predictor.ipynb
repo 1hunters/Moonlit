{
 "cells": [
  {
   "cell_type": "markdown",
   "metadata": {},
   "source": [
    "# Use LitePred to build your customed kernel latency predictor"
   ]
  },
  {
   "cell_type": "markdown",
   "metadata": {},
   "source": [
    "### First step is to find similar device for your own device, this will enhance the accuracy of your predictor and profiling cost of your process "
   ]
  },
  {
   "cell_type": "markdown",
   "metadata": {},
   "source": [
    "You need to obtain the real kernel latency for representative configurations, we recommend using [nn-meter](https://github.com/microsoft/nn-Meter/tree/main) to test fusion rule and profile all the kernel data"
   ]
  },
  {
   "cell_type": "code",
   "execution_count": 1,
   "metadata": {},
   "outputs": [],
   "source": [
    "import pandas as pd\n",
    "import numpy as np\n",
    " \n",
    "features = ['HW', 'CIN', 'COUT', 'KERNEL_SIZE', 'STRIDES','FLOPS','PARAMS','LATENCY']   # We use 'conv-bn-relu' kernel to show how to build predictor\n",
    "df = pd.read_csv('../similar_conv_config_pixel5_tf27gpu.csv')      "
   ]
  },
  {
   "cell_type": "code",
   "execution_count": 2,
   "metadata": {},
   "outputs": [],
   "source": [
    "data = df[features]#.to_numpy().astype(np.float32)\n",
    "profile_result = data.values.tolist()\n",
    "X = [result[:-1] for result in profile_result]\n",
    "Y = [result[-1] for result in profile_result]"
   ]
  },
  {
   "cell_type": "code",
   "execution_count": 3,
   "metadata": {},
   "outputs": [],
   "source": [
    "import torch\n",
    "import torch.utils.data as Data\n",
    "dataset = Data.TensorDataset(torch.Tensor(X), torch.Tensor(Y))"
   ]
  },
  {
   "cell_type": "code",
   "execution_count": 4,
   "metadata": {},
   "outputs": [],
   "source": [
    "from detector import  Detector\n",
    "pool_path = '/home/edge/chengquan/LitePred/predictors'\n",
    "kernel_type='conv-bn-relu'\n",
    "sm_detector = Detector(pool_path= pool_path,\n",
    "                       dataset=dataset,\n",
    "                       kernel_type=kernel_type)"
   ]
  },
  {
   "cell_type": "code",
   "execution_count": 5,
   "metadata": {},
   "outputs": [],
   "source": [
    "similar_device = sm_detector.get_similar_device()"
   ]
  },
  {
   "cell_type": "markdown",
   "metadata": {},
   "source": [
    "### Then you can leverage the profiled data and similar device to train your own predictor"
   ]
  },
  {
   "cell_type": "code",
   "execution_count": 6,
   "metadata": {},
   "outputs": [],
   "source": [
    "import os\n",
    "from model import NeuralNetwork\n",
    "weight_path = os.path.join(pool_path,similar_device[0],f'{kernel_type}.pth')\n",
    "weights = torch.load(weight_path)"
   ]
  },
  {
   "cell_type": "code",
   "execution_count": 10,
   "metadata": {},
   "outputs": [],
   "source": [
    "features = ['HW', 'CIN', 'COUT', 'KERNEL_SIZE', 'STRIDES','FLOPS','PARAMS','LATENCY']\n",
    "df_train = pd.read_csv('/home/edge/chengquan/LitePred/Data_conv-bn-relu.csv')\n",
    "df_eval = pd.read_csv('/home/edge/chengquan/LitePred/Data_conv-bn-relu_test.csv')\n",
    "\n",
    "data_train = df_train[features]\n",
    "data_eval = df_eval[features]\n",
    "\n",
    "X_train = [result[:-1] for result in data_train.values.tolist()]\n",
    "Y_train = [result[-1] for result in data_train.values.tolist()]\n",
    "train_dataset = Data.TensorDataset(torch.Tensor(X_train), torch.Tensor(Y_train))\n",
    "\n",
    "X_eval = [result[:-1] for result in data_eval.values.tolist()]\n",
    "Y_eval = [result[-1] for result in data_eval.values.tolist()]\n",
    "eval_dataset = Data.TensorDataset(torch.Tensor(X_eval), torch.Tensor(Y_eval))"
   ]
  },
  {
   "cell_type": "code",
   "execution_count": 16,
   "metadata": {},
   "outputs": [
    {
     "name": "stdout",
     "output_type": "stream",
     "text": [
      "successfully load similar device weights!\n"
     ]
    },
    {
     "name": "stderr",
     "output_type": "stream",
     "text": [
      "100%|██████████| 350/350 [21:07<00:00,  3.62s/it]"
     ]
    },
    {
     "name": "stdout",
     "output_type": "stream",
     "text": [
      "mlp: rmse: 1.1580; rmspe: 3.6057; error: 0.0953; 5% accuracy: 0.9187; 10% accuracy: 0.9668; 15% accuracy: 0.9911.\n",
      "Test Error: \n",
      " 10% Accuracy: 0.9668, Avg loss: 0.018653 \n",
      "\n"
     ]
    },
    {
     "name": "stderr",
     "output_type": "stream",
     "text": [
      "\n"
     ]
    }
   ],
   "source": [
    "from trainer import Trainer\n",
    "trainer = Trainer(train_dataset=train_dataset,\n",
    "                  eval_dataset=eval_dataset,\n",
    "                  kernel_type=kernel_type,\n",
    "                  weights=weights,\n",
    "                  epochs=350)\n",
    "trainer.train()"
   ]
  },
  {
   "cell_type": "code",
   "execution_count": 18,
   "metadata": {},
   "outputs": [
    {
     "name": "stdout",
     "output_type": "stream",
     "text": [
      "save model in f../predictors/conv-bn-relu.pth\n"
     ]
    }
   ],
   "source": [
    "trainer.save()"
   ]
  }
 ],
 "metadata": {
  "kernelspec": {
   "display_name": "nnmeter1",
   "language": "python",
   "name": "python3"
  },
  "language_info": {
   "codemirror_mode": {
    "name": "ipython",
    "version": 3
   },
   "file_extension": ".py",
   "mimetype": "text/x-python",
   "name": "python",
   "nbconvert_exporter": "python",
   "pygments_lexer": "ipython3",
   "version": "3.7.12"
  },
  "orig_nbformat": 4
 },
 "nbformat": 4,
 "nbformat_minor": 2
}
