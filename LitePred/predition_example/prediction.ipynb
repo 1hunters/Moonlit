{
 "cells": [
  {
   "cell_type": "markdown",
   "metadata": {},
   "source": [
    "# Examples for how to use our predictor to predict model latency\n"
   ]
  },
  {
   "cell_type": "markdown",
   "metadata": {},
   "source": [
    "For a given model , the first step is to identify and extract all the fused operators (kernels) within the model. We highly recommend using [nn-meter](https://github.com/microsoft/nn-Meter/tree/main) for detecting kernel fusion rules. Once you've detected and identified these kernels, you can proceed to collect their names and configurations.\" \n",
    "\n",
    "Here, we simply write a function to gather the kernels within the model."
   ]
  },
  {
   "cell_type": "code",
   "execution_count": 5,
   "metadata": {},
   "outputs": [
    {
     "name": "stdout",
     "output_type": "stream",
     "text": [
      "{'conv-bn-relu': [[192, 3, 16, 3, 2, 4.128768, 0.000448], [96, 16, 16, 1, 1, 2.506752, 0.000272], [96, 16, 48, 1, 1, 7.520256, 0.000816], [48, 48, 24, 1, 1, 2.709504, 0.001176], [48, 24, 72, 1, 1, 4.1472, 0.0018], [48, 72, 24, 1, 1, 4.036608, 0.001752], [48, 24, 144, 1, 1, 8.2944, 0.0036], [24, 144, 40, 1, 1, 3.3408, 0.0058], [24, 40, 160, 1, 1, 3.77856, 0.00656], [24, 160, 40, 1, 1, 3.70944, 0.00644], [24, 40, 120, 1, 1, 2.83392, 0.00492], [12, 120, 80, 1, 1, 1.39392, 0.00968], [12, 80, 480, 1, 1, 5.59872, 0.03888], [12, 480, 80, 1, 1, 5.54112, 0.03848], [12, 80, 480, 1, 1, 5.59872, 0.03888], [6, 480, 112, 1, 1, 1.939392, 0.053872], [6, 112, 672, 1, 1, 2.733696, 0.075936], [6, 672, 112, 1, 1, 2.713536, 0.075376], [6, 112, 672, 1, 1, 2.733696, 0.075936], [3, 672, 160, 1, 1, 0.96912, 0.10768], [3, 160, 960, 1, 1, 1.39104, 0.15456], [3, 960, 160, 1, 1, 1.38384, 0.15376], [3, 160, 960, 1, 1, 1.39104, 0.15456], [1, 960, 1280, 1, 1, 1.23008, 1.23008]], 'hswish': [[96, 16], [24, 120], [12, 120], [12, 480], [12, 480], [12, 480], [6, 480], [6, 672], [6, 672], [6, 672], [3, 672], [3, 960], [3, 960], [3, 960], [1, 1280]], 'add': [[96, 16, 16], [48, 24, 24], [24, 40, 40], [12, 80, 80], [6, 112, 112], [3, 160, 160]], 'dwconv-bn-relu': [[96, 16, 16, 3, 1, 1.47456, 0.00016], [96, 48, 48, 5, 2, 2.875392, 0.001248], [48, 72, 72, 5, 1, 4.313088, 0.001872], [48, 144, 144, 7, 2, 4.1472, 0.0072], [24, 160, 160, 5, 1, 2.39616, 0.00416], [24, 120, 120, 3, 2, 0.1728, 0.0012], [12, 480, 480, 3, 1, 0.6912, 0.0048], [12, 480, 480, 5, 2, 0.44928, 0.01248], [6, 672, 672, 3, 1, 0.24192, 0.00672], [6, 672, 672, 7, 2, 0.3024, 0.0336], [3, 960, 960, 3, 1, 0.0864, 0.0096]], 'swish': [], 'se': [[24, 144], [24, 160], [6, 480], [6, 672], [3, 672], [3, 960]], 'fc': [[1280, 1000, 1.2805, 2.561]], 'global-avgpool': [[3, 960]], 'maxpool': [], 'avgpool': []}\n"
     ]
    },
    {
     "data": {
      "text/plain": [
       "{'conv-bn-relu': [[192, 3, 16, 3, 2, 4.128768, 0.000448],\n",
       "  [96, 16, 16, 1, 1, 2.506752, 0.000272],\n",
       "  [96, 16, 48, 1, 1, 7.520256, 0.000816],\n",
       "  [48, 48, 24, 1, 1, 2.709504, 0.001176],\n",
       "  [48, 24, 72, 1, 1, 4.1472, 0.0018],\n",
       "  [48, 72, 24, 1, 1, 4.036608, 0.001752],\n",
       "  [48, 24, 144, 1, 1, 8.2944, 0.0036],\n",
       "  [24, 144, 40, 1, 1, 3.3408, 0.0058],\n",
       "  [24, 40, 160, 1, 1, 3.77856, 0.00656],\n",
       "  [24, 160, 40, 1, 1, 3.70944, 0.00644],\n",
       "  [24, 40, 120, 1, 1, 2.83392, 0.00492],\n",
       "  [12, 120, 80, 1, 1, 1.39392, 0.00968],\n",
       "  [12, 80, 480, 1, 1, 5.59872, 0.03888],\n",
       "  [12, 480, 80, 1, 1, 5.54112, 0.03848],\n",
       "  [12, 80, 480, 1, 1, 5.59872, 0.03888],\n",
       "  [6, 480, 112, 1, 1, 1.939392, 0.053872],\n",
       "  [6, 112, 672, 1, 1, 2.733696, 0.075936],\n",
       "  [6, 672, 112, 1, 1, 2.713536, 0.075376],\n",
       "  [6, 112, 672, 1, 1, 2.733696, 0.075936],\n",
       "  [3, 672, 160, 1, 1, 0.96912, 0.10768],\n",
       "  [3, 160, 960, 1, 1, 1.39104, 0.15456],\n",
       "  [3, 960, 160, 1, 1, 1.38384, 0.15376],\n",
       "  [3, 160, 960, 1, 1, 1.39104, 0.15456],\n",
       "  [1, 960, 1280, 1, 1, 1.23008, 1.23008]],\n",
       " 'hswish': [[96, 16],\n",
       "  [24, 120],\n",
       "  [12, 120],\n",
       "  [12, 480],\n",
       "  [12, 480],\n",
       "  [12, 480],\n",
       "  [6, 480],\n",
       "  [6, 672],\n",
       "  [6, 672],\n",
       "  [6, 672],\n",
       "  [3, 672],\n",
       "  [3, 960],\n",
       "  [3, 960],\n",
       "  [3, 960],\n",
       "  [1, 1280]],\n",
       " 'add': [[96, 16, 16],\n",
       "  [48, 24, 24],\n",
       "  [24, 40, 40],\n",
       "  [12, 80, 80],\n",
       "  [6, 112, 112],\n",
       "  [3, 160, 160]],\n",
       " 'dwconv-bn-relu': [[96, 16, 16, 3, 1, 1.47456, 0.00016],\n",
       "  [96, 48, 48, 5, 2, 2.875392, 0.001248],\n",
       "  [48, 72, 72, 5, 1, 4.313088, 0.001872],\n",
       "  [48, 144, 144, 7, 2, 4.1472, 0.0072],\n",
       "  [24, 160, 160, 5, 1, 2.39616, 0.00416],\n",
       "  [24, 120, 120, 3, 2, 0.1728, 0.0012],\n",
       "  [12, 480, 480, 3, 1, 0.6912, 0.0048],\n",
       "  [12, 480, 480, 5, 2, 0.44928, 0.01248],\n",
       "  [6, 672, 672, 3, 1, 0.24192, 0.00672],\n",
       "  [6, 672, 672, 7, 2, 0.3024, 0.0336],\n",
       "  [3, 960, 960, 3, 1, 0.0864, 0.0096]],\n",
       " 'swish': [],\n",
       " 'se': [[24, 144], [24, 160], [6, 480], [6, 672], [3, 672], [3, 960]],\n",
       " 'fc': [[1280, 1000, 1.2805, 2.561]],\n",
       " 'global-avgpool': [[3, 960]],\n",
       " 'maxpool': [],\n",
       " 'avgpool': []}"
      ]
     },
     "execution_count": 5,
     "metadata": {},
     "output_type": "execute_result"
    }
   ],
   "source": [
    "from get_tf_kernel import get_kernel\n",
    "model_path = '/home/edge/chengquan/test_model.tflite'\n",
    "config = get_kernel(model_path)\n",
    "config"
   ]
  },
  {
   "cell_type": "code",
   "execution_count": 2,
   "metadata": {},
   "outputs": [
    {
     "name": "stderr",
     "output_type": "stream",
     "text": [
      "/home/edge/anaconda3/envs/cq/lib/python3.7/site-packages/tqdm/auto.py:22: TqdmWarning: IProgress not found. Please update jupyter and ipywidgets. See https://ipywidgets.readthedocs.io/en/stable/user_install.html\n",
      "  from .autonotebook import tqdm as notebook_tqdm\n"
     ]
    }
   ],
   "source": [
    "import os\n",
    "import sys\n",
    "sys.path.append('..')\n",
    "from predictor_builder.model import NeuralNetwork\n",
    "import torch\n",
    "def get_pred_latency(op_config,predictor_path):\n",
    "    latency_sum = 0\n",
    "    for kernel in op_config:\n",
    "        if op_config[kernel] == []:\n",
    "            continue\n",
    "        configs = op_config[kernel]\n",
    "        weight_path = os.path.join(predictor_path,kernel+\".pth\")\n",
    "        model = NeuralNetwork(input_features=len(configs[0]))\n",
    "        model.load_state_dict(torch.load(weight_path,map_location=torch.device('cpu'))) \n",
    "        model.eval()\n",
    "        py = 0\n",
    "        pys = 0\n",
    "        for config in configs:\n",
    "            X = torch.Tensor(config)\n",
    "            py = model(X).cpu().detach().numpy()\n",
    "            pys = pys + py\n",
    "        latency_sum = latency_sum + pys\n",
    "    return latency_sum"
   ]
  },
  {
   "cell_type": "markdown",
   "metadata": {},
   "source": [
    "if you need our predictors , you can access them [here](https://huggingface.co/fcq/pred_lite/tree/main)"
   ]
  },
  {
   "cell_type": "code",
   "execution_count": 4,
   "metadata": {},
   "outputs": [
    {
     "data": {
      "text/plain": [
       "15.251722492277622"
      ]
     },
     "execution_count": 4,
     "metadata": {},
     "output_type": "execute_result"
    }
   ],
   "source": [
    "predictor_path = '/path/to/predictors/'\n",
    "pred_latency = get_pred_latency(config,predictor_path) \n",
    "pred_latency"
   ]
  }
 ],
 "metadata": {
  "kernelspec": {
   "display_name": "nnmeter1",
   "language": "python",
   "name": "python3"
  },
  "language_info": {
   "codemirror_mode": {
    "name": "ipython",
    "version": 3
   },
   "file_extension": ".py",
   "mimetype": "text/x-python",
   "name": "python",
   "nbconvert_exporter": "python",
   "pygments_lexer": "ipython3",
   "version": "3.7.16"
  },
  "orig_nbformat": 4
 },
 "nbformat": 4,
 "nbformat_minor": 2
}
